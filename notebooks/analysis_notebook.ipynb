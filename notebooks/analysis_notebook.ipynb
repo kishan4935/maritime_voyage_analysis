{
 "cells": [
  {
   "cell_type": "code",
   "execution_count": null,
   "metadata": {},
   "outputs": [],
   "source": [
    "# Import necessary libraries\n",
    "import pandas as pd\n",
    "import numpy as np\n",
    "from datetime import datetime, timedelta\n",
    "from math import radians, cos, sin, acos\n",
    "import matplotlib.pyplot as plt\n",
    "\n",
    "\n",
    "\n"
   ]
  },
  {
   "cell_type": "code",
   "execution_count": null,
   "metadata": {},
   "outputs": [],
   "source": [
    "# Load data\n",
    "data = pd.read_csv('../data/voyages.csv')\n",
    "\n",
    "# Display the first few rows of the dataframe\n",
    "print(\"Data loaded successfully:\")\n",
    "display(data.head())\n",
    "\n"
   ]
  },
  {
   "cell_type": "code",
   "execution_count": null,
   "metadata": {},
   "outputs": [],
   "source": [
    "# Convert dateStamp and timeStamp to a single datetime column\n",
    "data['event_time'] = pd.to_datetime('1899-12-30') + pd.to_timedelta(data['dateStamp'], unit='D') + pd.to_timedelta(data['timeStamp'] * 24, unit='H')\n",
    "print(\"Event times calculated:\")\n",
    "display(data[['id', 'event', 'event_time']].head())\n",
    "\n",
    "# Calculate previous event time and coordinates\n",
    "data['prev_event_time'] = data['event_time'].shift(1)\n",
    "data['prev_lat'] = data['lat'].shift(1)\n",
    "data['prev_lon'] = data['lon'].shift(1)\n",
    "print(\"Previous event times and coordinates calculated:\")\n",
    "display(data[['id', 'event', 'prev_event_time', 'prev_lat', 'prev_lon']].head())\n",
    "\n",
    "# Calculate time difference in hours\n",
    "data['time_diff_hours'] = (data['event_time'] - data['prev_event_time']).dt.total_seconds() / 3600.0\n",
    "print(\"Time differences calculated:\")\n",
    "display(data[['id', 'event', 'time_diff_hours']].head())\n",
    "\n",
    "# Function to calculate distance between two coordinates using the haversine formula\n",
    "def haversine(lat1, lon1, lat2, lon2):\n",
    "    R = 3959  # Earth radius in miles\n",
    "    lat1, lon1, lat2, lon2 = map(radians, [lat1, lon1, lat2, lon2])\n",
    "    return R * acos(cos(lat1) * cos(lat2) * cos(lon2 - lon1) + sin(lat1) * sin(lat2))\n",
    "\n",
    "# Calculate distance travelled\n",
    "data['distance_travelled'] = data.apply(\n",
    "    lambda row: haversine(row['lat'], row['lon'], row['prev_lat'], row['prev_lon']) if pd.notnull(row['prev_lat']) else 0,\n",
    "    axis=1\n",
    ")\n",
    "print(\"Distances travelled calculated:\")\n",
    "display(data[['id', 'event', 'distance_travelled']].head())\n",
    "\n",
    "# Calculate sailing time and port stay duration\n",
    "data['sailing_time'] = np.where(data['event'] == 'SOSP', data['time_diff_hours'], np.nan)\n",
    "data['port_stay_duration'] = np.where(data['event'] == 'EOSP', data['time_diff_hours'], np.nan)\n",
    "print(\"Sailing times and port stay durations calculated:\")\n",
    "display(data[['id', 'event', 'sailing_time', 'port_stay_duration']].head())\n",
    "\n"
   ]
  },
  {
   "cell_type": "code",
   "execution_count": null,
   "metadata": {},
   "outputs": [],
   "source": [
    "# Plot the results\n",
    "plt.figure(figsize=(12, 6))\n",
    "\n",
    "# Filter out rows with NaN values in sailing_time or port_stay_duration for plotting\n",
    "df_sailing = data.dropna(subset=['sailing_time'])\n",
    "df_port = data.dropna(subset=['port_stay_duration'])\n",
    "\n",
    "# Plot sailing times\n",
    "plt.bar(df_sailing['event_time'], df_sailing['sailing_time'], width=0.1, label='Sailing Time (hours)')\n",
    "\n",
    "# Plot port stay durations\n",
    "plt.bar(df_port['event_time'], df_port['port_stay_duration'], width=0.1, label='Port Stay Duration (hours)', color='orange')\n",
    "\n",
    "plt.xlabel('Event Time')\n",
    "plt.ylabel('Duration (hours)')\n",
    "plt.title('Voyage Timeline')\n",
    "plt.legend()\n",
    "plt.show()"
   ]
  }
 ],
 "metadata": {
  "language_info": {
   "name": "python"
  }
 },
 "nbformat": 4,
 "nbformat_minor": 2
}
